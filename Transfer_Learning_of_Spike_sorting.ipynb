{
  "cells": [
    {
      "cell_type": "code",
      "execution_count": null,
      "metadata": {
        "colab": {
          "base_uri": "https://localhost:8080/"
        },
        "id": "sB3mQC43tS0O",
        "outputId": "55ceca70-04f4-4cf3-9763-3d7a41914e8c"
      },
      "outputs": [
        {
          "output_type": "stream",
          "name": "stdout",
          "text": [
            "Mounted at /gdrive\n",
            "/gdrive\n"
          ]
        }
      ],
      "source": [
        "from google.colab import drive\n",
        "drive.mount('/gdrive', force_remount=True)\n",
        "%cd /gdrive"
      ]
    },
    {
      "cell_type": "code",
      "execution_count": null,
      "metadata": {
        "colab": {
          "base_uri": "https://localhost:8080/"
        },
        "id": "WAO_BIMKaf0G",
        "outputId": "6ee558e0-6f3c-4b34-a2cc-b10dd5465c79"
      },
      "outputs": [
        {
          "output_type": "stream",
          "name": "stdout",
          "text": [
            "/gdrive/MyDrive\n"
          ]
        }
      ],
      "source": [
        "%cd MyDrive"
      ]
    },
    {
      "cell_type": "code",
      "execution_count": null,
      "metadata": {
        "colab": {
          "base_uri": "https://localhost:8080/"
        },
        "id": "57uw-U9SaqZb",
        "outputId": "0360edec-0753-47d7-de36-e8f0dca0653a"
      },
      "outputs": [
        {
          "output_type": "stream",
          "name": "stdout",
          "text": [
            "'Colab Notebooks'   path   Simulator\n"
          ]
        }
      ],
      "source": [
        "!ls"
      ]
    },
    {
      "cell_type": "code",
      "execution_count": null,
      "metadata": {
        "id": "4SS7jgV70Ggx"
      },
      "outputs": [],
      "source": [
        "import numpy as np\n",
        "import matplotlib.pyplot as plt\n",
        "from scipy import signal\n",
        "import numpy as np\n",
        "import torch\n",
        "import pandas as pd\n",
        "import torchvision\n",
        "import torchvision.transforms as t\n",
        "import torch.nn as nn\n",
        "import torch.optim as optim\n",
        "import matplotlib.pyplot as plt\n",
        "from torchsummary import summary"
      ]
    },
    {
      "cell_type": "code",
      "execution_count": null,
      "metadata": {
        "colab": {
          "base_uri": "https://localhost:8080/"
        },
        "id": "kwX6j7Xwdcjc",
        "outputId": "d06a2113-8671-4d87-c8d6-fa80a193f1f0"
      },
      "outputs": [
        {
          "output_type": "stream",
          "name": "stdout",
          "text": [
            "Looking in indexes: https://pypi.org/simple, https://us-python.pkg.dev/colab-wheels/public/simple/\n",
            "Requirement already satisfied: pymatreader in /usr/local/lib/python3.8/dist-packages (0.0.30)\n",
            "Requirement already satisfied: h5py in /usr/local/lib/python3.8/dist-packages (from pymatreader) (3.1.0)\n",
            "Requirement already satisfied: scipy!=1.7.0 in /usr/local/lib/python3.8/dist-packages (from pymatreader) (1.7.3)\n",
            "Requirement already satisfied: xmltodict in /usr/local/lib/python3.8/dist-packages (from pymatreader) (0.13.0)\n",
            "Requirement already satisfied: future in /usr/local/lib/python3.8/dist-packages (from pymatreader) (0.16.0)\n",
            "Requirement already satisfied: numpy in /usr/local/lib/python3.8/dist-packages (from pymatreader) (1.22.4)\n"
          ]
        }
      ],
      "source": [
        "!pip install pymatreader"
      ]
    },
    {
      "cell_type": "code",
      "execution_count": null,
      "metadata": {
        "id": "ENQs2x7ncFu9"
      },
      "outputs": [],
      "source": [
        "from pymatreader import read_mat\n",
        "data = read_mat('Simulator/C_Difficult2_noise02.mat')"
      ]
    },
    {
      "cell_type": "code",
      "execution_count": null,
      "metadata": {
        "id": "KZZIS9lngCBB"
      },
      "outputs": [],
      "source": [
        "spike_class = data['spike_class'][0][:]\n",
        "spike_data = data['data']\n",
        "spike_times = data['spike_times']"
      ]
    },
    {
      "cell_type": "code",
      "execution_count": null,
      "metadata": {
        "id": "ISMH6_OJp7FR"
      },
      "outputs": [],
      "source": [
        "idx_spike=spike_times\n",
        "num_spike=len(spike_times)"
      ]
    },
    {
      "cell_type": "code",
      "execution_count": null,
      "metadata": {
        "id": "DbKV7zZG0lwm"
      },
      "outputs": [],
      "source": [
        "num_sample_forward=50\n",
        "num_sample_backward=0\n",
        "spike_curve=np.zeros((num_spike,num_sample_forward-num_sample_backward))\n",
        "for i in range(num_spike):\n",
        "    spike_curve[i]=spike_data[(idx_spike[i]+num_sample_backward):(idx_spike[i]+num_sample_forward)]"
      ]
    },
    {
      "cell_type": "code",
      "execution_count": null,
      "metadata": {
        "id": "kFPcAzY90q2h"
      },
      "outputs": [],
      "source": [
        "# plt.figure(figsize=(20,10))\n",
        "# for i in range(num_spike):\n",
        "#     plt.plot(spike_curve[i],linewidth=0.4)\n",
        "# plt.xticks(fontsize=8)\n",
        "# plt.xlabel('sample',color='red')\n",
        "# plt.ylabel('uV',color='red')"
      ]
    },
    {
      "cell_type": "code",
      "execution_count": null,
      "metadata": {
        "id": "gZPxCsxb0vhh"
      },
      "outputs": [],
      "source": [
        "scales = np.arange(1, 51)"
      ]
    },
    {
      "cell_type": "code",
      "execution_count": null,
      "metadata": {
        "id": "tRa3g40m0x4A",
        "colab": {
          "base_uri": "https://localhost:8080/"
        },
        "outputId": "842a312d-3944-403e-f93c-662eea5213f6"
      },
      "outputs": [
        {
          "output_type": "stream",
          "name": "stderr",
          "text": [
            "<ipython-input-11-359e8972b0bc>:5: ComplexWarning: Casting complex values to real discards the imaginary part\n",
            "  wavelet[i, 0, :, :] = cwtmatr\n"
          ]
        }
      ],
      "source": [
        "wavelet = np.zeros((len(spike_curve), 3, 50, 50))\n",
        "for i in range(len(spike_curve)):\n",
        "    # Compute CWT coefficients for Morlet wavelet\n",
        "    cwtmatr = signal.cwt(spike_curve[i], signal.morlet, scales)\n",
        "    wavelet[i, 0, :, :] = cwtmatr\n",
        "\n",
        "    # Compute CWT coefficients for Ricker wavelet\n",
        "    cwtmatr = signal.cwt(spike_curve[i], signal.ricker, scales)\n",
        "    wavelet[i, 1, :, :] = cwtmatr\n",
        "\n",
        "    # Compute CWT coefficients for other wavelet family (replace with desired wavelet family)\n",
        "    cwtmatr = signal.cwt(spike_curve[i], signal.gaussian, scales)\n",
        "    wavelet[i, 2, :, :] = cwtmatr\n",
        "\n"
      ]
    },
    {
      "cell_type": "code",
      "source": [
        "# from scipy import ndimage\n",
        "# resized_wavelet = np.zeros((len(spike_curve), 3, 224, 224))\n",
        "# for i in range(len(spike_curve)):\n",
        "#     for j in range(3):\n",
        "#         resized_wavelet[i, j, :, :] = ndimage.zoom(wavelet[i, j, :, :], (224/50, 224/50))"
      ],
      "metadata": {
        "id": "coaKGd-zJUeh"
      },
      "execution_count": null,
      "outputs": []
    },
    {
      "cell_type": "code",
      "source": [
        "spk = 56\n",
        "# Get the CWT coefficients for the first spike curve for all three wavelets\n",
        "morlet_coeffs =  resized_wavelet[spk, 0, :, :]\n",
        "ricker_coeffs =  resized_wavelet[spk, 1, :, :]\n",
        "gaussian_coeffs =resized_wavelet[spk, 2, :, :]\n",
        "\n",
        "# Plot the scalograms for all three wavelets\n",
        "fig, axs = plt.subplots(1, 3, figsize=(15, 5))\n",
        "\n",
        "axs[0].imshow(morlet_coeffs, aspect='auto', cmap='jet', origin='lower')\n",
        "axs[0].set_title('Morlet Wavelet')\n",
        "axs[0].set_xlabel('Time')\n",
        "axs[0].set_ylabel('Scale')\n",
        "\n",
        "axs[1].imshow(ricker_coeffs, aspect='auto', cmap='jet', origin='lower')\n",
        "axs[1].set_title('Ricker Wavelet')\n",
        "axs[1].set_xlabel('Time')\n",
        "axs[1].set_ylabel('Scale')\n",
        "\n",
        "axs[2].imshow(gaussian_coeffs, aspect='auto', cmap='jet', origin='lower')\n",
        "axs[2].set_title('Gaussian Wavelet')\n",
        "axs[2].set_xlabel('Time')\n",
        "axs[2].set_ylabel('Scale')\n",
        "\n",
        "plt.show()\n"
      ],
      "metadata": {
        "colab": {
          "base_uri": "https://localhost:8080/",
          "height": 350
        },
        "id": "6G0MUS5QuF4u",
        "outputId": "3b17adb5-5a18-42c8-c550-ca9a417e554f"
      },
      "execution_count": null,
      "outputs": [
        {
          "output_type": "display_data",
          "data": {
            "text/plain": [
              "<Figure size 1080x360 with 3 Axes>"
            ],
            "image/png": "[encoded data removed]"
          },
          "metadata": {
            "needs_background": "light"
          }
        }
      ]
    },
    {
      "cell_type": "code",
      "source": [
        "import torchvision.models as models\n",
        "\n",
        "class VGG16(nn.Module):\n",
        "    def __init__(self):\n",
        "        super(VGG16, self).__init__()\n",
        "        # Load the VGG model\n",
        "        self.vgg = models.vgg16(pretrained=True)\n",
        "        for param in self.vgg.parameters():\n",
        "            param.requires_grad = False\n",
        "        for param in self.vgg.classifier[-1].parameters():\n",
        "            param.requires_grad = True\n",
        "        # Replace the last layer with a new layer with 3 output features\n",
        "        num_features = self.vgg.classifier[-1].in_features\n",
        "        self.vgg.classifier[-1] = nn.Linear(num_features, 3)\n",
        "        # Add a softmax layer\n",
        "        self.softmax = nn.Softmax(dim=1)\n",
        "\n",
        "    def forward(self, x):\n",
        "        # Pass the input through the VGG model\n",
        "        x = self.vgg(x)\n",
        "        # Pass the output through the softmax layer\n",
        "        x = self.softmax(x)\n",
        "        return x"
      ],
      "metadata": {
        "id": "Lw_qKLFZC9Ng"
      },
      "execution_count": null,
      "outputs": []
    },
    {
      "cell_type": "code",
      "execution_count": null,
      "metadata": {
        "id": "Luny-bto7QXj",
        "colab": {
          "base_uri": "https://localhost:8080/",
          "height": 1000,
          "referenced_widgets": [
            "7a1c01380aa140fdb297ffbd435fbad7",
            "17841202c0474454997b9e9cfa16e153",
            "a547688a027b449494d0857f5e1df6c9",
            "37de0f2c15e6475681c55383a784c586",
            "f1951d415bed4973af88c94e8ed838e1",
            "735771bbd8f64be9b733be2642acb8b2",
            "63c89c9fea23469e807c33598310deb8",
            "f8619f4f8a754cda86ed9da0c8f2cdea",
            "f592205ef65b4969869a3b2b37aaa799",
            "d4ce17ea9b5e447ca7c43f5398555153",
            "d6984535827e4af387a4ad113cc192c2"
          ]
        },
        "outputId": "1a8aacad-b16d-4466-aa28-d349910e4116"
      },
      "outputs": [
        {
          "output_type": "stream",
          "name": "stderr",
          "text": [
            "/usr/local/lib/python3.8/dist-packages/torchvision/models/_utils.py:208: UserWarning: The parameter 'pretrained' is deprecated since 0.13 and may be removed in the future, please use 'weights' instead.\n",
            "  warnings.warn(\n",
            "/usr/local/lib/python3.8/dist-packages/torchvision/models/_utils.py:223: UserWarning: Arguments other than a weight enum or `None` for 'weights' are deprecated since 0.13 and may be removed in the future. The current behavior is equivalent to passing `weights=VGG16_Weights.IMAGENET1K_V1`. You can also use `weights=VGG16_Weights.DEFAULT` to get the most up-to-date weights.\n",
            "  warnings.warn(msg)\n",
            "Downloading: \"https://download.pytorch.org/models/vgg16-397923af.pth\" to /root/.cache/torch/hub/checkpoints/vgg16-397923af.pth\n"
          ]
        },
        {
          "output_type": "display_data",
          "data": {
            "text/plain": [
              "  0%|          | 0.00/528M [00:00<?, ?B/s]"
            ],
            "application/vnd.jupyter.widget-view+json": {
              "version_major": 2,
              "version_minor": 0,
              "model_id": "7a1c01380aa140fdb297ffbd435fbad7"
            }
          },
          "metadata": {}
        },
        {
          "output_type": "stream",
          "name": "stdout",
          "text": [
            "The model will be running on cuda:0 device\n",
            "\n"
          ]
        },
        {
          "output_type": "execute_result",
          "data": {
            "text/plain": [
              "VGG16(\n",
              "  (vgg): VGG(\n",
              "    (features): Sequential(\n",
              "      (0): Conv2d(3, 64, kernel_size=(3, 3), stride=(1, 1), padding=(1, 1))\n",
              "      (1): ReLU(inplace=True)\n",
              "      (2): Conv2d(64, 64, kernel_size=(3, 3), stride=(1, 1), padding=(1, 1))\n",
              "      (3): ReLU(inplace=True)\n",
              "      (4): MaxPool2d(kernel_size=2, stride=2, padding=0, dilation=1, ceil_mode=False)\n",
              "      (5): Conv2d(64, 128, kernel_size=(3, 3), stride=(1, 1), padding=(1, 1))\n",
              "      (6): ReLU(inplace=True)\n",
              "      (7): Conv2d(128, 128, kernel_size=(3, 3), stride=(1, 1), padding=(1, 1))\n",
              "      (8): ReLU(inplace=True)\n",
              "      (9): MaxPool2d(kernel_size=2, stride=2, padding=0, dilation=1, ceil_mode=False)\n",
              "      (10): Conv2d(128, 256, kernel_size=(3, 3), stride=(1, 1), padding=(1, 1))\n",
              "      (11): ReLU(inplace=True)\n",
              "      (12): Conv2d(256, 256, kernel_size=(3, 3), stride=(1, 1), padding=(1, 1))\n",
              "      (13): ReLU(inplace=True)\n",
              "      (14): Conv2d(256, 256, kernel_size=(3, 3), stride=(1, 1), padding=(1, 1))\n",
              "      (15): ReLU(inplace=True)\n",
              "      (16): MaxPool2d(kernel_size=2, stride=2, padding=0, dilation=1, ceil_mode=False)\n",
              "      (17): Conv2d(256, 512, kernel_size=(3, 3), stride=(1, 1), padding=(1, 1))\n",
              "      (18): ReLU(inplace=True)\n",
              "      (19): Conv2d(512, 512, kernel_size=(3, 3), stride=(1, 1), padding=(1, 1))\n",
              "      (20): ReLU(inplace=True)\n",
              "      (21): Conv2d(512, 512, kernel_size=(3, 3), stride=(1, 1), padding=(1, 1))\n",
              "      (22): ReLU(inplace=True)\n",
              "      (23): MaxPool2d(kernel_size=2, stride=2, padding=0, dilation=1, ceil_mode=False)\n",
              "      (24): Conv2d(512, 512, kernel_size=(3, 3), stride=(1, 1), padding=(1, 1))\n",
              "      (25): ReLU(inplace=True)\n",
              "      (26): Conv2d(512, 512, kernel_size=(3, 3), stride=(1, 1), padding=(1, 1))\n",
              "      (27): ReLU(inplace=True)\n",
              "      (28): Conv2d(512, 512, kernel_size=(3, 3), stride=(1, 1), padding=(1, 1))\n",
              "      (29): ReLU(inplace=True)\n",
              "      (30): MaxPool2d(kernel_size=2, stride=2, padding=0, dilation=1, ceil_mode=False)\n",
              "    )\n",
              "    (avgpool): AdaptiveAvgPool2d(output_size=(7, 7))\n",
              "    (classifier): Sequential(\n",
              "      (0): Linear(in_features=25088, out_features=4096, bias=True)\n",
              "      (1): ReLU(inplace=True)\n",
              "      (2): Dropout(p=0.5, inplace=False)\n",
              "      (3): Linear(in_features=4096, out_features=4096, bias=True)\n",
              "      (4): ReLU(inplace=True)\n",
              "      (5): Dropout(p=0.5, inplace=False)\n",
              "      (6): Linear(in_features=4096, out_features=3, bias=True)\n",
              "    )\n",
              "  )\n",
              "  (softmax): Softmax(dim=1)\n",
              ")"
            ]
          },
          "metadata": {},
          "execution_count": 15
        }
      ],
      "source": [
        "# Define your execution device\n",
        "model = VGG16()\n",
        "device = torch.device(\"cuda:0\" if torch.cuda.is_available() else \"cpu\")\n",
        "print(\"The model will be running on\", device, \"device\\n\")\n",
        "model.to(device)    # Convert model parameters and buffers to CPU or Cuda\n",
        "#summary(model, (3, 224, 224))"
      ]
    },
    {
      "cell_type": "code",
      "execution_count": null,
      "metadata": {
        "id": "ItbIiRjQQFNg"
      },
      "outputs": [],
      "source": [
        "import numpy as np\n",
        "from sklearn.model_selection import train_test_split\n",
        "# Load your data and labels\n",
        "label = spike_class-1\n",
        "data =  resized_wavelet\n",
        "mean = np.mean(data)\n",
        "std = np.std(data)\n",
        "data = (data - mean) / std\n",
        "\n",
        "\n",
        "X_train, test_data, X_label, test_label = train_test_split(data, label, test_size=0.50,stratify=label,shuffle = True)\n",
        "train_data, val_data, train_label, val_label = train_test_split(X_train, X_label, test_size=0.05,stratify=X_label,shuffle = True)\n",
        "\n",
        "# Convert the data and labels to PyTorch tensors\n",
        "train_inputs = torch.from_numpy(train_data).float()\n",
        "val_inputs = torch.from_numpy(val_data).float()\n",
        "test_inputs = torch.from_numpy(test_data).float()\n",
        "\n",
        "train_labels = torch.from_numpy(train_label).float()\n",
        "val_labels = torch.from_numpy(val_label).float()\n",
        "test_labels = torch.from_numpy(test_label).float()\n",
        "\n"
      ]
    },
    {
      "cell_type": "code",
      "execution_count": null,
      "metadata": {
        "id": "AeNpHVIKoyNF"
      },
      "outputs": [],
      "source": [
        "print(train_inputs.shape)\n",
        "print(val_inputs.shape)\n",
        "print(test_inputs.shape)\n",
        "print(train_labels.shape)\n",
        "print(val_labels.shape)\n",
        "print(test_labels.shape)"
      ]
    },
    {
      "cell_type": "code",
      "execution_count": null,
      "metadata": {
        "id": "Pdd1SaYxR0Zm"
      },
      "outputs": [],
      "source": [
        "num_epochs = 20\n",
        "\n",
        "# Define the loss function and optimizer\n",
        "criterion = nn.CrossEntropyLoss()\n",
        "# optimizer = torch.optim.ASGD(model.parameters(), lr=0.01,weight_decay=0.0001)\n",
        "#optimizer = torch.optim.ASGD(model.parameters(), lr=0.01)\n",
        "optimizer = optim.ASGD(filter(lambda p: p.requires_grad, model.parameters()), lr=0.01)\n",
        "\n",
        "\n",
        "inputs = torch.tensor([])\n",
        "# Train the network\n",
        "for epoch in range(num_epochs):\n",
        "  training_loss = 0\n",
        "  loss_back = 0\n",
        "  for i in range(0, train_inputs.size(0)):\n",
        "    # Get the input and labels for the current batch\n",
        "    inputs = train_inputs[i:i+1].to(device)\n",
        "    labels = train_labels[i:i+1].to(device)\n",
        "    # Forward pass\n",
        "    outputs = model(inputs)\n",
        "    loss = criterion(outputs, labels.long())\n",
        "    training_loss += loss\n",
        "    loss_back += loss\n",
        "    if i % 10 == 0:\n",
        "        optimizer.zero_grad()\n",
        "        # Backward pass and optimization\n",
        "        loss_back.backward()\n",
        "        optimizer.step()\n",
        "        loss_back = 0\n",
        "  training_loss = training_loss/train_inputs.size(0)\n",
        "  print('******************************************************************')\n",
        "  print('Epoch [{}/{}], Loss: {:.4f}'.format(epoch+1, num_epochs, training_loss))\n",
        "  with torch.no_grad():\n",
        "          correct = 0\n",
        "          val_loss = 0\n",
        "          for j in range(0,val_inputs.size(0)):\n",
        "            # Get the input and labels for the current batch\n",
        "            inputs = val_inputs[j:j+1].to(device)\n",
        "            labels = val_labels[j:j+1].to(device)\n",
        "            outputs = model(inputs)\n",
        "            loss = criterion(outputs, labels.long())\n",
        "            _, predicted = torch.max(outputs.data, 1)\n",
        "            correct += (predicted == labels).sum().item()\n",
        "            val_loss += loss\n",
        "          val_loss = val_loss/val_inputs.size(0)\n",
        "          print('Validation Loss: {:.4f}'.format(val_loss))\n",
        "          print('Validation Accuracy: {:.2f}% ({}/{})'.format(100*correct/val_inputs.size(0), correct, val_inputs.size(0)))\n",
        "\n",
        "# Test the network on the test set\n",
        "with torch.no_grad():\n",
        "  test_loss = 0\n",
        "  correct = 0\n",
        "  total = 0\n",
        "  for i in range(0, test_inputs.size(0)):\n",
        "        # Get the input and labels for the current batch\n",
        "        inputs = test_inputs[i:i+1].to(device)\n",
        "        labels = test_labels[i:i+1].to(device)\n",
        "        outputs = model(inputs)\n",
        "        # Get the predictions\n",
        "        _, predicted = torch.max(outputs.data, 1)\n",
        "        correct += (predicted == labels).sum().item()\n",
        "        loss = criterion(outputs, labels.long())\n",
        "        test_loss += loss\n",
        "\n",
        "print('Test Loss: {:.4f}'.format(test_loss/test_inputs.size(0)))\n",
        "print('Test Accuracy: {:.2f}% ({}/{})'.format(100*correct/test_inputs.size(0) , correct, test_inputs.size(0)))\n",
        "\n",
        "\n"
      ]
    },
    {
      "cell_type": "code",
      "source": [
        "with torch.no_grad():\n",
        "  test_loss = 0\n",
        "  correct = 0\n",
        "  total = 0\n",
        "  for i in range(0, test_inputs.size(0)):\n",
        "        # Get the input and labels for the current batch\n",
        "        inputs = test_inputs[i:i+1].to(device)\n",
        "        labels = test_labels[i:i+1].to(device)\n",
        "        outputs = model(inputs)\n",
        "        # Get the predictions\n",
        "        _, predicted = torch.max(outputs.data, 1)\n",
        "        correct += (predicted == labels).sum().item()\n",
        "        loss = criterion(outputs, labels.long())\n",
        "        test_loss += loss\n",
        "\n",
        "print('Test Loss: {:.4f}'.format(test_loss/test_inputs.size(0)))\n",
        "print('Test Accuracy: {:.2f}% ({}/{})'.format(100*correct/test_inputs.size(0) , correct, test_inputs.size(0)))\n",
        "\n"
      ],
      "metadata": {
        "id": "sJGilPYKQK6E"
      },
      "execution_count": null,
      "outputs": []
    }
  ],
  "metadata": {
    "colab": {
      "provenance": [],
      "authorship_tag": "ABX9TyNVr+6ZYem9g4yn7hw12yJ/"
    },
    "gpuClass": "standard",
    "kernelspec": {
      "display_name": "Python 3",
      "name": "python3"
    },
    "language_info": {
      "name": "python"
    },
    "accelerator": "GPU",
    "widgets": {
      "application/vnd.jupyter.widget-state+json": {
        "7a1c01380aa140fdb297ffbd435fbad7": {
          "model_module": "@jupyter-widgets/controls",
          "model_name": "HBoxModel",
          "model_module_version": "1.5.0",
          "state": {
            "_dom_classes": [],
            "_model_module": "@jupyter-widgets/controls",
            "_model_module_version": "1.5.0",
            "_model_name": "HBoxModel",
            "_view_count": null,
            "_view_module": "@jupyter-widgets/controls",
            "_view_module_version": "1.5.0",
            "_view_name": "HBoxView",
            "box_style": "",
            "children": [
              "IPY_MODEL_17841202c0474454997b9e9cfa16e153",
              "IPY_MODEL_a547688a027b449494d0857f5e1df6c9",
              "IPY_MODEL_37de0f2c15e6475681c55383a784c586"
            ],
            "layout": "IPY_MODEL_f1951d415bed4973af88c94e8ed838e1"
          }
        },
        "17841202c0474454997b9e9cfa16e153": {
          "model_module": "@jupyter-widgets/controls",
          "model_name": "HTMLModel",
          "model_module_version": "1.5.0",
          "state": {
            "_dom_classes": [],
            "_model_module": "@jupyter-widgets/controls",
            "_model_module_version": "1.5.0",
            "_model_name": "HTMLModel",
            "_view_count": null,
            "_view_module": "@jupyter-widgets/controls",
            "_view_module_version": "1.5.0",
            "_view_name": "HTMLView",
            "description": "",
            "description_tooltip": null,
            "layout": "IPY_MODEL_735771bbd8f64be9b733be2642acb8b2",
            "placeholder": "​",
            "style": "IPY_MODEL_63c89c9fea23469e807c33598310deb8",
            "value": "100%"
          }
        },
        "a547688a027b449494d0857f5e1df6c9": {
          "model_module": "@jupyter-widgets/controls",
          "model_name": "FloatProgressModel",
          "model_module_version": "1.5.0",
          "state": {
            "_dom_classes": [],
            "_model_module": "@jupyter-widgets/controls",
            "_model_module_version": "1.5.0",
            "_model_name": "FloatProgressModel",
            "_view_count": null,
            "_view_module": "@jupyter-widgets/controls",
            "_view_module_version": "1.5.0",
            "_view_name": "ProgressView",
            "bar_style": "success",
            "description": "",
            "description_tooltip": null,
            "layout": "IPY_MODEL_f8619f4f8a754cda86ed9da0c8f2cdea",
            "max": 553433881,
            "min": 0,
            "orientation": "horizontal",
            "style": "IPY_MODEL_f592205ef65b4969869a3b2b37aaa799",
            "value": 553433881
          }
        },
        "37de0f2c15e6475681c55383a784c586": {
          "model_module": "@jupyter-widgets/controls",
          "model_name": "HTMLModel",
          "model_module_version": "1.5.0",
          "state": {
            "_dom_classes": [],
            "_model_module": "@jupyter-widgets/controls",
            "_model_module_version": "1.5.0",
            "_model_name": "HTMLModel",
            "_view_count": null,
            "_view_module": "@jupyter-widgets/controls",
            "_view_module_version": "1.5.0",
            "_view_name": "HTMLView",
            "description": "",
            "description_tooltip": null,
            "layout": "IPY_MODEL_d4ce17ea9b5e447ca7c43f5398555153",
            "placeholder": "​",
            "style": "IPY_MODEL_d6984535827e4af387a4ad113cc192c2",
            "value": " 528M/528M [00:02&lt;00:00, 202MB/s]"
          }
        },
        "f1951d415bed4973af88c94e8ed838e1": {
          "model_module": "@jupyter-widgets/base",
          "model_name": "LayoutModel",
          "model_module_version": "1.2.0",
          "state": {
            "_model_module": "@jupyter-widgets/base",
            "_model_module_version": "1.2.0",
            "_model_name": "LayoutModel",
            "_view_count": null,
            "_view_module": "@jupyter-widgets/base",
            "_view_module_version": "1.2.0",
            "_view_name": "LayoutView",
            "align_content": null,
            "align_items": null,
            "align_self": null,
            "border": null,
            "bottom": null,
            "display": null,
            "flex": null,
            "flex_flow": null,
            "grid_area": null,
            "grid_auto_columns": null,
            "grid_auto_flow": null,
            "grid_auto_rows": null,
            "grid_column": null,
            "grid_gap": null,
            "grid_row": null,
            "grid_template_areas": null,
            "grid_template_columns": null,
            "grid_template_rows": null,
            "height": null,
            "justify_content": null,
            "justify_items": null,
            "left": null,
            "margin": null,
            "max_height": null,
            "max_width": null,
            "min_height": null,
            "min_width": null,
            "object_fit": null,
            "object_position": null,
            "order": null,
            "overflow": null,
            "overflow_x": null,
            "overflow_y": null,
            "padding": null,
            "right": null,
            "top": null,
            "visibility": null,
            "width": null
          }
        },
        "735771bbd8f64be9b733be2642acb8b2": {
          "model_module": "@jupyter-widgets/base",
          "model_name": "LayoutModel",
          "model_module_version": "1.2.0",
          "state": {
            "_model_module": "@jupyter-widgets/base",
            "_model_module_version": "1.2.0",
            "_model_name": "LayoutModel",
            "_view_count": null,
            "_view_module": "@jupyter-widgets/base",
            "_view_module_version": "1.2.0",
            "_view_name": "LayoutView",
            "align_content": null,
            "align_items": null,
            "align_self": null,
            "border": null,
            "bottom": null,
            "display": null,
            "flex": null,
            "flex_flow": null,
            "grid_area": null,
            "grid_auto_columns": null,
            "grid_auto_flow": null,
            "grid_auto_rows": null,
            "grid_column": null,
            "grid_gap": null,
            "grid_row": null,
            "grid_template_areas": null,
            "grid_template_columns": null,
            "grid_template_rows": null,
            "height": null,
            "justify_content": null,
            "justify_items": null,
            "left": null,
            "margin": null,
            "max_height": null,
            "max_width": null,
            "min_height": null,
            "min_width": null,
            "object_fit": null,
            "object_position": null,
            "order": null,
            "overflow": null,
            "overflow_x": null,
            "overflow_y": null,
            "padding": null,
            "right": null,
            "top": null,
            "visibility": null,
            "width": null
          }
        },
        "63c89c9fea23469e807c33598310deb8": {
          "model_module": "@jupyter-widgets/controls",
          "model_name": "DescriptionStyleModel",
          "model_module_version": "1.5.0",
          "state": {
            "_model_module": "@jupyter-widgets/controls",
            "_model_module_version": "1.5.0",
            "_model_name": "DescriptionStyleModel",
            "_view_count": null,
            "_view_module": "@jupyter-widgets/base",
            "_view_module_version": "1.2.0",
            "_view_name": "StyleView",
            "description_width": ""
          }
        },
        "f8619f4f8a754cda86ed9da0c8f2cdea": {
          "model_module": "@jupyter-widgets/base",
          "model_name": "LayoutModel",
          "model_module_version": "1.2.0",
          "state": {
            "_model_module": "@jupyter-widgets/base",
            "_model_module_version": "1.2.0",
            "_model_name": "LayoutModel",
            "_view_count": null,
            "_view_module": "@jupyter-widgets/base",
            "_view_module_version": "1.2.0",
            "_view_name": "LayoutView",
            "align_content": null,
            "align_items": null,
            "align_self": null,
            "border": null,
            "bottom": null,
            "display": null,
            "flex": null,
            "flex_flow": null,
            "grid_area": null,
            "grid_auto_columns": null,
            "grid_auto_flow": null,
            "grid_auto_rows": null,
            "grid_column": null,
            "grid_gap": null,
            "grid_row": null,
            "grid_template_areas": null,
            "grid_template_columns": null,
            "grid_template_rows": null,
            "height": null,
            "justify_content": null,
            "justify_items": null,
            "left": null,
            "margin": null,
            "max_height": null,
            "max_width": null,
            "min_height": null,
            "min_width": null,
            "object_fit": null,
            "object_position": null,
            "order": null,
            "overflow": null,
            "overflow_x": null,
            "overflow_y": null,
            "padding": null,
            "right": null,
            "top": null,
            "visibility": null,
            "width": null
          }
        },
        "f592205ef65b4969869a3b2b37aaa799": {
          "model_module": "@jupyter-widgets/controls",
          "model_name": "ProgressStyleModel",
          "model_module_version": "1.5.0",
          "state": {
            "_model_module": "@jupyter-widgets/controls",
            "_model_module_version": "1.5.0",
            "_model_name": "ProgressStyleModel",
            "_view_count": null,
            "_view_module": "@jupyter-widgets/base",
            "_view_module_version": "1.2.0",
            "_view_name": "StyleView",
            "bar_color": null,
            "description_width": ""
          }
        },
        "d4ce17ea9b5e447ca7c43f5398555153": {
          "model_module": "@jupyter-widgets/base",
          "model_name": "LayoutModel",
          "model_module_version": "1.2.0",
          "state": {
            "_model_module": "@jupyter-widgets/base",
            "_model_module_version": "1.2.0",
            "_model_name": "LayoutModel",
            "_view_count": null,
            "_view_module": "@jupyter-widgets/base",
            "_view_module_version": "1.2.0",
            "_view_name": "LayoutView",
            "align_content": null,
            "align_items": null,
            "align_self": null,
            "border": null,
            "bottom": null,
            "display": null,
            "flex": null,
            "flex_flow": null,
            "grid_area": null,
            "grid_auto_columns": null,
            "grid_auto_flow": null,
            "grid_auto_rows": null,
            "grid_column": null,
            "grid_gap": null,
            "grid_row": null,
            "grid_template_areas": null,
            "grid_template_columns": null,
            "grid_template_rows": null,
            "height": null,
            "justify_content": null,
            "justify_items": null,
            "left": null,
            "margin": null,
            "max_height": null,
            "max_width": null,
            "min_height": null,
            "min_width": null,
            "object_fit": null,
            "object_position": null,
            "order": null,
            "overflow": null,
            "overflow_x": null,
            "overflow_y": null,
            "padding": null,
            "right": null,
            "top": null,
            "visibility": null,
            "width": null
          }
        },
        "d6984535827e4af387a4ad113cc192c2": {
          "model_module": "@jupyter-widgets/controls",
          "model_name": "DescriptionStyleModel",
          "model_module_version": "1.5.0",
          "state": {
            "_model_module": "@jupyter-widgets/controls",
            "_model_module_version": "1.5.0",
            "_model_name": "DescriptionStyleModel",
            "_view_count": null,
            "_view_module": "@jupyter-widgets/base",
            "_view_module_version": "1.2.0",
            "_view_name": "StyleView",
            "description_width": ""
          }
        }
      }
    }
  },
  "nbformat": 4,
  "nbformat_minor": 0
}